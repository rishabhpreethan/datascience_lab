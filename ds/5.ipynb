{
 "cells": [
  {
   "cell_type": "code",
   "execution_count": 8,
   "id": "e8e75127",
   "metadata": {},
   "outputs": [
    {
     "data": {
      "text/html": [
       "<div>\n",
       "<style scoped>\n",
       "    .dataframe tbody tr th:only-of-type {\n",
       "        vertical-align: middle;\n",
       "    }\n",
       "\n",
       "    .dataframe tbody tr th {\n",
       "        vertical-align: top;\n",
       "    }\n",
       "\n",
       "    .dataframe thead th {\n",
       "        text-align: right;\n",
       "    }\n",
       "</style>\n",
       "<table border=\"1\" class=\"dataframe\">\n",
       "  <thead>\n",
       "    <tr style=\"text-align: right;\">\n",
       "      <th></th>\n",
       "      <th>Pregnancies</th>\n",
       "      <th>Glucose</th>\n",
       "      <th>BloodPressure</th>\n",
       "      <th>SkinThickness</th>\n",
       "      <th>Insulin</th>\n",
       "      <th>BMI</th>\n",
       "      <th>DiabetesPedigreeFunction</th>\n",
       "      <th>Age</th>\n",
       "      <th>Outcome</th>\n",
       "    </tr>\n",
       "  </thead>\n",
       "  <tbody>\n",
       "    <tr>\n",
       "      <th>0</th>\n",
       "      <td>6</td>\n",
       "      <td>148</td>\n",
       "      <td>72</td>\n",
       "      <td>35</td>\n",
       "      <td>0</td>\n",
       "      <td>33.6</td>\n",
       "      <td>0.627</td>\n",
       "      <td>50</td>\n",
       "      <td>1</td>\n",
       "    </tr>\n",
       "    <tr>\n",
       "      <th>1</th>\n",
       "      <td>1</td>\n",
       "      <td>85</td>\n",
       "      <td>66</td>\n",
       "      <td>29</td>\n",
       "      <td>0</td>\n",
       "      <td>26.6</td>\n",
       "      <td>0.351</td>\n",
       "      <td>31</td>\n",
       "      <td>0</td>\n",
       "    </tr>\n",
       "    <tr>\n",
       "      <th>2</th>\n",
       "      <td>8</td>\n",
       "      <td>183</td>\n",
       "      <td>64</td>\n",
       "      <td>0</td>\n",
       "      <td>0</td>\n",
       "      <td>23.3</td>\n",
       "      <td>0.672</td>\n",
       "      <td>32</td>\n",
       "      <td>1</td>\n",
       "    </tr>\n",
       "    <tr>\n",
       "      <th>3</th>\n",
       "      <td>1</td>\n",
       "      <td>89</td>\n",
       "      <td>66</td>\n",
       "      <td>23</td>\n",
       "      <td>94</td>\n",
       "      <td>28.1</td>\n",
       "      <td>0.167</td>\n",
       "      <td>21</td>\n",
       "      <td>0</td>\n",
       "    </tr>\n",
       "    <tr>\n",
       "      <th>4</th>\n",
       "      <td>0</td>\n",
       "      <td>137</td>\n",
       "      <td>40</td>\n",
       "      <td>35</td>\n",
       "      <td>168</td>\n",
       "      <td>43.1</td>\n",
       "      <td>2.288</td>\n",
       "      <td>33</td>\n",
       "      <td>1</td>\n",
       "    </tr>\n",
       "  </tbody>\n",
       "</table>\n",
       "</div>"
      ],
      "text/plain": [
       "   Pregnancies  Glucose  BloodPressure  SkinThickness  Insulin   BMI  \\\n",
       "0            6      148             72             35        0  33.6   \n",
       "1            1       85             66             29        0  26.6   \n",
       "2            8      183             64              0        0  23.3   \n",
       "3            1       89             66             23       94  28.1   \n",
       "4            0      137             40             35      168  43.1   \n",
       "\n",
       "   DiabetesPedigreeFunction  Age  Outcome  \n",
       "0                     0.627   50        1  \n",
       "1                     0.351   31        0  \n",
       "2                     0.672   32        1  \n",
       "3                     0.167   21        0  \n",
       "4                     2.288   33        1  "
      ]
     },
     "execution_count": 8,
     "metadata": {},
     "output_type": "execute_result"
    }
   ],
   "source": [
    "import pandas as pd\n",
    "from sklearn.linear_model import LinearRegression\n",
    "from sklearn.model_selection import train_test_split\n",
    "df = pd.read_csv(\"diabetes.csv\")\n",
    "df.head()"
   ]
  },
  {
   "cell_type": "code",
   "execution_count": 10,
   "id": "62af4637",
   "metadata": {},
   "outputs": [
    {
     "data": {
      "text/plain": [
       "array([41.18183506, 31.90560037, 28.40538318, 39.31332296, 33.30566314,\n",
       "       29.74740776, 36.86142656, 39.63383924, 34.76178259, 31.0248789 ,\n",
       "       37.80625128, 39.76913171, 33.60849467, 29.65757317, 27.39039014,\n",
       "       32.68486755, 40.03205999, 29.23662349, 35.2876994 , 30.970864  ,\n",
       "       35.51333691, 32.14688085, 30.17289118, 26.68984831, 31.89244935,\n",
       "       33.56865168, 33.18199036, 36.29464586, 33.37481058, 33.04573727,\n",
       "       35.94584602, 30.60597099, 31.80363564, 33.30317118, 34.44177675,\n",
       "       38.78389329, 35.70207357, 33.91132619, 33.04273486, 40.0058182 ,\n",
       "       33.10632767, 29.04488441, 31.72337896, 41.36048336, 42.27300124,\n",
       "       34.90908468, 32.90744239, 35.1226523 , 32.00150003, 34.0511524 ,\n",
       "       35.50523007, 32.13372984, 35.94437495, 35.42146054, 29.45319352,\n",
       "       20.91383081, 30.19357834, 30.7523727 , 35.41539547, 36.35913905,\n",
       "       38.17420695, 36.22952172, 34.85666136, 35.07725469, 40.59986157,\n",
       "       42.76054614, 38.71423542, 34.70221306, 32.04842898, 28.21358386,\n",
       "       32.31390947, 34.13441148, 29.33003119, 39.61972759, 37.9844494 ,\n",
       "       35.50625095, 27.35405999, 37.60385315, 29.68432539, 30.31322783,\n",
       "       30.58426295, 34.73758257, 32.36741393, 32.42238946, 30.3763102 ,\n",
       "       29.32096371, 36.32286916, 30.43134598, 39.91598361, 29.40626457,\n",
       "       34.41655585, 34.95307147, 33.00940712, 32.9644597 , 38.34832152,\n",
       "       32.78632183, 30.01646136, 36.087714  , 31.98081287, 33.29608523,\n",
       "       31.56292585, 31.96715141, 31.81627621, 32.05092094, 33.56967256,\n",
       "       32.34570588, 34.68203635, 35.29427491, 32.52888792, 41.47451797,\n",
       "       30.33742784, 32.39972078, 35.78335114, 34.41757674, 39.04484006,\n",
       "       38.26806484, 32.89684359, 42.31437556, 32.72272902, 32.43355896,\n",
       "       31.84858306, 30.86589687, 32.32099543, 34.21971234, 36.70544693,\n",
       "       31.07985443, 34.04106404, 33.0472686 , 35.76011176, 40.62457202,\n",
       "       36.0049051 , 35.24371261, 29.63082094, 38.22317767, 30.4873424 ,\n",
       "       31.42207876, 32.46733688, 30.87649567, 36.07960716, 34.07637329,\n",
       "       29.7701367 , 37.39187711, 32.66820368, 26.99216939, 32.7711893 ,\n",
       "       31.88236099, 30.76137992, 29.67826033, 31.46849726, 31.67191628,\n",
       "       30.06639272, 34.7073175 , 33.68319673, 32.20236683, 36.53235324,\n",
       "       31.36250924, 36.39309774, 33.01898504, 33.73721162, 33.04681841,\n",
       "       38.78740614, 42.68028945, 29.28910705, 33.98149452, 39.77768874,\n",
       "       33.37129773, 28.53256881, 33.13608231, 34.12534401, 32.10646717,\n",
       "       30.51256329, 28.04451346, 32.32955245, 30.72255782, 35.93677855,\n",
       "       30.17391207, 30.22792696, 28.32614739, 32.79136601, 30.58726535,\n",
       "       31.64465361, 36.67217945, 28.88941523, 39.15791403, 35.39470831,\n",
       "       25.78991075, 33.56513883, 34.43775345, 36.24465426, 32.99778743,\n",
       "       35.57284617, 30.42221825, 31.07429981, 33.16436586, 30.24810368,\n",
       "       34.99297471, 35.68847236, 37.23289507, 32.24878533, 30.82248077,\n",
       "       33.36925595, 36.69382724, 32.4769148 , 35.53249274, 32.57485623,\n",
       "       28.59111744, 30.13253775, 30.4833191 , 38.00156345, 35.05248398,\n",
       "       30.16433415, 30.1784458 , 33.52319381, 37.60838689, 32.41031958,\n",
       "       27.61704853, 33.93303424, 34.50843222, 39.16896302, 30.2864756 ,\n",
       "       30.73666947, 32.57179357, 33.94063064, 33.58180269, 35.39221635,\n",
       "       35.18375315, 31.96312811, 32.73281738, 31.59517245, 31.38070444,\n",
       "       34.21466816])"
      ]
     },
     "execution_count": 10,
     "metadata": {},
     "output_type": "execute_result"
    }
   ],
   "source": [
    "x = df[['Glucose', 'BMI']]\n",
    "y = df['Age']\n",
    "x_train, x_test, y_train, y_test = train_test_split(x, y, random_state = 0, test_size = 0.30)\n",
    "clf = LinearRegression()\n",
    "clf.fit(x_train, y_train)\n",
    "y_pred = clf.predict(x_test)\n",
    "y_pred"
   ]
  },
  {
   "cell_type": "code",
   "execution_count": 14,
   "id": "6bcf4152",
   "metadata": {},
   "outputs": [
    {
     "name": "stdout",
     "output_type": "stream",
     "text": [
      "[23.43130154]\n"
     ]
    },
    {
     "name": "stderr",
     "output_type": "stream",
     "text": [
      "/Users/rishabh/Library/Python/3.8/lib/python/site-packages/sklearn/base.py:409: UserWarning: X does not have valid feature names, but LinearRegression was fitted with feature names\n",
      "  warnings.warn(\n"
     ]
    }
   ],
   "source": [
    "predictedCO2 = clf.predict([[1,2]])\n",
    "print(predictedCO2)"
   ]
  },
  {
   "cell_type": "code",
   "execution_count": 15,
   "id": "7300c9e8",
   "metadata": {},
   "outputs": [
    {
     "data": {
      "text/plain": [
       "0.005585332890706063"
      ]
     },
     "execution_count": 15,
     "metadata": {},
     "output_type": "execute_result"
    }
   ],
   "source": [
    "from sklearn import metrics\n",
    "r2 = metrics.r2_score(y_test, y_pred)\n",
    "r2"
   ]
  },
  {
   "cell_type": "code",
   "execution_count": null,
   "id": "6a96e25c",
   "metadata": {},
   "outputs": [],
   "source": []
  }
 ],
 "metadata": {
  "kernelspec": {
   "display_name": "Python 3 (ipykernel)",
   "language": "python",
   "name": "python3"
  },
  "language_info": {
   "codemirror_mode": {
    "name": "ipython",
    "version": 3
   },
   "file_extension": ".py",
   "mimetype": "text/x-python",
   "name": "python",
   "nbconvert_exporter": "python",
   "pygments_lexer": "ipython3",
   "version": "3.8.2"
  }
 },
 "nbformat": 4,
 "nbformat_minor": 5
}
